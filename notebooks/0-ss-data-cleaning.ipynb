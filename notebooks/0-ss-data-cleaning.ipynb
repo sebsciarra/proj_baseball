{
 "cells": [
  {
   "cell_type": "code",
   "execution_count": 7,
   "id": "869bde58-4b0b-49ea-b8ae-bd0b5ccd888e",
   "metadata": {
    "tags": []
   },
   "outputs": [
    {
     "name": "stdout",
     "output_type": "stream",
     "text": [
      "The autoreload extension is already loaded. To reload it, use:\n",
      "  %reload_ext autoreload\n"
     ]
    }
   ],
   "source": [
    "%load_ext autoreload\n",
    "%autoreload 2\n",
    "%load_ext rpy2.ipython"
   ]
  },
  {
   "cell_type": "code",
   "execution_count": 8,
   "id": "22a8a94a-6e46-4b0c-8c3e-890725c50978",
   "metadata": {
    "tags": []
   },
   "outputs": [
    {
     "data": {
      "text/plain": [
       "<rpy2.rinterface_lib.sexp.NULLType object at 0x10d77dd90> [0]"
      ]
     },
     "execution_count": 8,
     "metadata": {},
     "output_type": "execute_result"
    }
   ],
   "source": [
    "import rpy2\n",
    "from rpy2.robjects.packages import importr\n",
    "\n",
    "# import R's \"base\" package\n",
    "base = importr(\"base\")\n",
    "\n",
    "# import R's \"utils\" package\n",
    "utils = importr(\"utils\")\n",
    "\n",
    "# select a mirror for R packages\n",
    "utils.chooseCRANmirror(ind=1)  # select the first mirror in the list"
   ]
  },
  {
   "cell_type": "code",
   "execution_count": 10,
   "id": "e3b58c27-bbd7-4908-b5d0-7ffa375649d0",
   "metadata": {
    "collapsed": true,
    "jupyter": {
     "outputs_hidden": true
    },
    "tags": []
   },
   "outputs": [
    {
     "name": "stderr",
     "output_type": "stream",
     "text": [
      "R[write to console]: trying URL 'https://cloud.r-project.org/bin/macosx/contrib/4.2/tidyverse_2.0.0.tgz'\n",
      "\n",
      "R[write to console]: Content type 'application/x-gzip'\n",
      "R[write to console]:  length 422995 bytes (413 KB)\n",
      "\n",
      "R[write to console]: =\n",
      "R[write to console]: =\n",
      "R[write to console]: =\n",
      "R[write to console]: =\n",
      "R[write to console]: =\n",
      "R[write to console]: =\n",
      "R[write to console]: =\n",
      "R[write to console]: =\n",
      "R[write to console]: =\n",
      "R[write to console]: =\n",
      "R[write to console]: =\n",
      "R[write to console]: =\n",
      "R[write to console]: =\n",
      "R[write to console]: =\n",
      "R[write to console]: =\n",
      "R[write to console]: =\n",
      "R[write to console]: =\n",
      "R[write to console]: =\n",
      "R[write to console]: =\n",
      "R[write to console]: =\n",
      "R[write to console]: =\n",
      "R[write to console]: =\n",
      "R[write to console]: =\n",
      "R[write to console]: =\n",
      "R[write to console]: =\n",
      "R[write to console]: =\n",
      "R[write to console]: =\n",
      "R[write to console]: =\n",
      "R[write to console]: =\n",
      "R[write to console]: =\n",
      "R[write to console]: =\n",
      "R[write to console]: =\n",
      "R[write to console]: =\n",
      "R[write to console]: =\n",
      "R[write to console]: =\n",
      "R[write to console]: =\n",
      "R[write to console]: =\n",
      "R[write to console]: =\n",
      "R[write to console]: =\n",
      "R[write to console]: =\n",
      "R[write to console]: =\n",
      "R[write to console]: =\n",
      "R[write to console]: =\n",
      "R[write to console]: =\n",
      "R[write to console]: =\n",
      "R[write to console]: =\n",
      "R[write to console]: =\n",
      "R[write to console]: =\n",
      "R[write to console]: =\n",
      "R[write to console]: =\n",
      "R[write to console]: \n",
      "\n",
      "R[write to console]: downloaded 413 KB\n",
      "\n",
      "\n"
     ]
    },
    {
     "name": "stdout",
     "output_type": "stream",
     "text": [
      "\n",
      "The downloaded binary packages are in\n",
      "\t/var/folders/jd/040j2c_s7jlgd0tqzr3lqptc0000gn/T//Rtmpjgapa1/downloaded_packages\n"
     ]
    },
    {
     "data": {
      "text/plain": [
       "<rpy2.rinterface_lib.sexp.NULLType object at 0x10d77dd90> [0]"
      ]
     },
     "execution_count": 10,
     "metadata": {},
     "output_type": "execute_result"
    }
   ],
   "source": [
    "utils.install_packages(\"tidyverse\")"
   ]
  },
  {
   "cell_type": "code",
   "execution_count": 31,
   "id": "d0ff35c1-7b9a-4a1b-87a2-3732e83cb700",
   "metadata": {
    "tags": []
   },
   "outputs": [],
   "source": [
    "%%R\n",
    "library(tidyverse)"
   ]
  },
  {
   "cell_type": "code",
   "execution_count": 35,
   "id": "ad892897-b2cc-4ee1-93ab-ea045d97628d",
   "metadata": {
    "tags": []
   },
   "outputs": [
    {
     "ename": "RParsingError",
     "evalue": "Parsing status not OK - PARSING_STATUS.PARSE_ERROR",
     "output_type": "error",
     "traceback": [
      "\u001b[0;31m---------------------------------------------------------------------------\u001b[0m",
      "\u001b[0;31mRParsingError\u001b[0m                             Traceback (most recent call last)",
      "Cell \u001b[0;32mIn[35], line 1\u001b[0m\n\u001b[0;32m----> 1\u001b[0m \u001b[43mget_ipython\u001b[49m\u001b[43m(\u001b[49m\u001b[43m)\u001b[49m\u001b[38;5;241;43m.\u001b[39;49m\u001b[43mrun_cell_magic\u001b[49m\u001b[43m(\u001b[49m\u001b[38;5;124;43m'\u001b[39;49m\u001b[38;5;124;43mR\u001b[39;49m\u001b[38;5;124;43m'\u001b[39;49m\u001b[43m,\u001b[49m\u001b[43m \u001b[49m\u001b[38;5;124;43m'\u001b[39;49m\u001b[38;5;124;43m'\u001b[39;49m\u001b[43m,\u001b[49m\u001b[43m \u001b[49m\u001b[38;5;124;43m'\u001b[39;49m\u001b[38;5;130;43;01m\\n\u001b[39;49;00m\u001b[38;5;124;43mdata <- data.frame(x = c(1,4), y = c(3,4z))\u001b[39;49m\u001b[38;5;130;43;01m\\n\u001b[39;49;00m\u001b[38;5;130;43;01m\\n\u001b[39;49;00m\u001b[38;5;124;43mggplot(data = data, mapping = aes(x=x, y=y)) +\u001b[39;49m\u001b[38;5;130;43;01m\\n\u001b[39;49;00m\u001b[38;5;124;43mgeom_line()\u001b[39;49m\u001b[38;5;130;43;01m\\n\u001b[39;49;00m\u001b[38;5;124;43m'\u001b[39;49m\u001b[43m)\u001b[49m\n",
      "File \u001b[0;32m~/anaconda3/envs/proj_baseball/lib/python3.11/site-packages/IPython/core/interactiveshell.py:2493\u001b[0m, in \u001b[0;36mInteractiveShell.run_cell_magic\u001b[0;34m(self, magic_name, line, cell)\u001b[0m\n\u001b[1;32m   2491\u001b[0m \u001b[38;5;28;01mwith\u001b[39;00m \u001b[38;5;28mself\u001b[39m\u001b[38;5;241m.\u001b[39mbuiltin_trap:\n\u001b[1;32m   2492\u001b[0m     args \u001b[38;5;241m=\u001b[39m (magic_arg_s, cell)\n\u001b[0;32m-> 2493\u001b[0m     result \u001b[38;5;241m=\u001b[39m \u001b[43mfn\u001b[49m\u001b[43m(\u001b[49m\u001b[38;5;241;43m*\u001b[39;49m\u001b[43margs\u001b[49m\u001b[43m,\u001b[49m\u001b[43m \u001b[49m\u001b[38;5;241;43m*\u001b[39;49m\u001b[38;5;241;43m*\u001b[39;49m\u001b[43mkwargs\u001b[49m\u001b[43m)\u001b[49m\n\u001b[1;32m   2495\u001b[0m \u001b[38;5;66;03m# The code below prevents the output from being displayed\u001b[39;00m\n\u001b[1;32m   2496\u001b[0m \u001b[38;5;66;03m# when using magics with decorator @output_can_be_silenced\u001b[39;00m\n\u001b[1;32m   2497\u001b[0m \u001b[38;5;66;03m# when the last Python token in the expression is a ';'.\u001b[39;00m\n\u001b[1;32m   2498\u001b[0m \u001b[38;5;28;01mif\u001b[39;00m \u001b[38;5;28mgetattr\u001b[39m(fn, magic\u001b[38;5;241m.\u001b[39mMAGIC_OUTPUT_CAN_BE_SILENCED, \u001b[38;5;28;01mFalse\u001b[39;00m):\n",
      "File \u001b[0;32m~/anaconda3/envs/proj_baseball/lib/python3.11/site-packages/rpy2/ipython/rmagic.py:943\u001b[0m, in \u001b[0;36mRMagics.R\u001b[0;34m(self, line, cell, local_ns)\u001b[0m\n\u001b[1;32m    941\u001b[0m         return_output \u001b[38;5;241m=\u001b[39m \u001b[38;5;28;01mFalse\u001b[39;00m\n\u001b[1;32m    942\u001b[0m \u001b[38;5;28;01melse\u001b[39;00m:\n\u001b[0;32m--> 943\u001b[0m     text_result, result, visible \u001b[38;5;241m=\u001b[39m \u001b[38;5;28;43mself\u001b[39;49m\u001b[38;5;241;43m.\u001b[39;49m\u001b[43meval\u001b[49m\u001b[43m(\u001b[49m\u001b[43mcode\u001b[49m\u001b[43m)\u001b[49m\n\u001b[1;32m    944\u001b[0m     text_output \u001b[38;5;241m+\u001b[39m\u001b[38;5;241m=\u001b[39m text_result\n\u001b[1;32m    945\u001b[0m     \u001b[38;5;28;01mif\u001b[39;00m visible:\n",
      "File \u001b[0;32m~/anaconda3/envs/proj_baseball/lib/python3.11/site-packages/rpy2/ipython/rmagic.py:400\u001b[0m, in \u001b[0;36mRMagics.eval\u001b[0;34m(self, code)\u001b[0m\n\u001b[1;32m    392\u001b[0m stack\u001b[38;5;241m.\u001b[39menter_context(\n\u001b[1;32m    393\u001b[0m     obj_in_module(\n\u001b[1;32m    394\u001b[0m         rpy2\u001b[38;5;241m.\u001b[39mrinterface_lib\u001b[38;5;241m.\u001b[39mcallbacks,\n\u001b[1;32m    395\u001b[0m         \u001b[38;5;124m'\u001b[39m\u001b[38;5;124m_WRITECONSOLE_EXCEPTION_LOG\u001b[39m\u001b[38;5;124m'\u001b[39m,\n\u001b[1;32m    396\u001b[0m         \u001b[38;5;124m'\u001b[39m\u001b[38;5;132;01m%s\u001b[39;00m\u001b[38;5;124m'\u001b[39m)\n\u001b[1;32m    397\u001b[0m )\n\u001b[1;32m    398\u001b[0m \u001b[38;5;28;01mtry\u001b[39;00m:\n\u001b[1;32m    399\u001b[0m     \u001b[38;5;66;03m# Need the newline in case the last line in code is a comment.\u001b[39;00m\n\u001b[0;32m--> 400\u001b[0m     r_expr \u001b[38;5;241m=\u001b[39m \u001b[43mri\u001b[49m\u001b[38;5;241;43m.\u001b[39;49m\u001b[43mparse\u001b[49m\u001b[43m(\u001b[49m\u001b[43mcode\u001b[49m\u001b[43m)\u001b[49m\n\u001b[1;32m    401\u001b[0m     value, visible \u001b[38;5;241m=\u001b[39m ri\u001b[38;5;241m.\u001b[39mevalr_expr_with_visible(\n\u001b[1;32m    402\u001b[0m         r_expr\n\u001b[1;32m    403\u001b[0m     )\n\u001b[1;32m    404\u001b[0m \u001b[38;5;28;01mexcept\u001b[39;00m (ri\u001b[38;5;241m.\u001b[39membedded\u001b[38;5;241m.\u001b[39mRRuntimeError, \u001b[38;5;167;01mValueError\u001b[39;00m) \u001b[38;5;28;01mas\u001b[39;00m exception:\n\u001b[1;32m    405\u001b[0m     \u001b[38;5;66;03m# Otherwise next return seems to have copy of error.\u001b[39;00m\n",
      "File \u001b[0;32m~/anaconda3/envs/proj_baseball/lib/python3.11/site-packages/rpy2/rinterface_lib/conversion.py:45\u001b[0m, in \u001b[0;36m_cdata_res_to_rinterface.<locals>._\u001b[0;34m(*args, **kwargs)\u001b[0m\n\u001b[1;32m     44\u001b[0m \u001b[38;5;28;01mdef\u001b[39;00m \u001b[38;5;21m_\u001b[39m(\u001b[38;5;241m*\u001b[39margs, \u001b[38;5;241m*\u001b[39m\u001b[38;5;241m*\u001b[39mkwargs):\n\u001b[0;32m---> 45\u001b[0m     cdata \u001b[38;5;241m=\u001b[39m \u001b[43mfunction\u001b[49m\u001b[43m(\u001b[49m\u001b[38;5;241;43m*\u001b[39;49m\u001b[43margs\u001b[49m\u001b[43m,\u001b[49m\u001b[43m \u001b[49m\u001b[38;5;241;43m*\u001b[39;49m\u001b[38;5;241;43m*\u001b[39;49m\u001b[43mkwargs\u001b[49m\u001b[43m)\u001b[49m\n\u001b[1;32m     46\u001b[0m     \u001b[38;5;66;03m# TODO: test cdata is of the expected CType\u001b[39;00m\n\u001b[1;32m     47\u001b[0m     \u001b[38;5;28;01mreturn\u001b[39;00m _cdata_to_rinterface(cdata)\n",
      "File \u001b[0;32m~/anaconda3/envs/proj_baseball/lib/python3.11/site-packages/rpy2/rinterface.py:123\u001b[0m, in \u001b[0;36mparse\u001b[0;34m(text, num)\u001b[0m\n\u001b[1;32m    121\u001b[0m robj \u001b[38;5;241m=\u001b[39m StrSexpVector([text])\n\u001b[1;32m    122\u001b[0m \u001b[38;5;28;01mwith\u001b[39;00m memorymanagement\u001b[38;5;241m.\u001b[39mrmemory() \u001b[38;5;28;01mas\u001b[39;00m rmemory:\n\u001b[0;32m--> 123\u001b[0m     res \u001b[38;5;241m=\u001b[39m \u001b[43m_rinterface\u001b[49m\u001b[38;5;241;43m.\u001b[39;49m\u001b[43m_parse\u001b[49m\u001b[43m(\u001b[49m\u001b[43mrobj\u001b[49m\u001b[38;5;241;43m.\u001b[39;49m\u001b[43m__sexp__\u001b[49m\u001b[38;5;241;43m.\u001b[39;49m\u001b[43m_cdata\u001b[49m\u001b[43m,\u001b[49m\u001b[43m \u001b[49m\u001b[43mnum\u001b[49m\u001b[43m,\u001b[49m\u001b[43m \u001b[49m\u001b[43mrmemory\u001b[49m\u001b[43m)\u001b[49m\n\u001b[1;32m    124\u001b[0m \u001b[38;5;28;01mreturn\u001b[39;00m res\n",
      "File \u001b[0;32m~/anaconda3/envs/proj_baseball/lib/python3.11/site-packages/rpy2/rinterface_lib/_rinterface_capi.py:720\u001b[0m, in \u001b[0;36m_parse\u001b[0;34m(cdata, num, rmemory)\u001b[0m\n\u001b[1;32m    713\u001b[0m \u001b[38;5;66;03m# TODO: design better handling of possible status:\u001b[39;00m\n\u001b[1;32m    714\u001b[0m \u001b[38;5;66;03m# PARSE_NULL,\u001b[39;00m\n\u001b[1;32m    715\u001b[0m \u001b[38;5;66;03m# PARSE_OK,\u001b[39;00m\n\u001b[1;32m    716\u001b[0m \u001b[38;5;66;03m# PARSE_INCOMPLETE,\u001b[39;00m\n\u001b[1;32m    717\u001b[0m \u001b[38;5;66;03m# PARSE_ERROR,\u001b[39;00m\n\u001b[1;32m    718\u001b[0m \u001b[38;5;66;03m# PARSE_EOF\u001b[39;00m\n\u001b[1;32m    719\u001b[0m \u001b[38;5;28;01mif\u001b[39;00m status[\u001b[38;5;241m0\u001b[39m] \u001b[38;5;241m!=\u001b[39m openrlib\u001b[38;5;241m.\u001b[39mrlib\u001b[38;5;241m.\u001b[39mPARSE_OK:\n\u001b[0;32m--> 720\u001b[0m     \u001b[38;5;28;01mraise\u001b[39;00m RParsingError(\u001b[38;5;124m'\u001b[39m\u001b[38;5;124mParsing status not OK\u001b[39m\u001b[38;5;124m'\u001b[39m,\n\u001b[1;32m    721\u001b[0m                         status\u001b[38;5;241m=\u001b[39mPARSING_STATUS(status[\u001b[38;5;241m0\u001b[39m]))\n\u001b[1;32m    722\u001b[0m \u001b[38;5;28;01mreturn\u001b[39;00m res\n",
      "\u001b[0;31mRParsingError\u001b[0m: Parsing status not OK - PARSING_STATUS.PARSE_ERROR"
     ]
    }
   ],
   "source": [
    "%%R\n",
    "\n",
    "data <- data.frame(x = c(1,4), y = c(3,4z))\n",
    "\n",
    "ggplot(data = data, mapping = aes(x=x, y=y)) +\n",
    "geom_line()"
   ]
  }
 ],
 "metadata": {
  "kernelspec": {
   "display_name": "Python 3 (ipykernel)",
   "language": "python",
   "name": "python3"
  },
  "language_info": {
   "codemirror_mode": {
    "name": "ipython",
    "version": 3
   },
   "file_extension": ".py",
   "mimetype": "text/x-python",
   "name": "python",
   "nbconvert_exporter": "python",
   "pygments_lexer": "ipython3",
   "version": "3.11.4"
  }
 },
 "nbformat": 4,
 "nbformat_minor": 5
}
