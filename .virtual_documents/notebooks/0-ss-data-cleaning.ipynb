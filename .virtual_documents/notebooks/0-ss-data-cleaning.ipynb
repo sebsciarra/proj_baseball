get_ipython().run_line_magic("load_ext", " autoreload")
get_ipython().run_line_magic("autoreload", " 2")
get_ipython().run_line_magic("load_ext", " rpy2.ipython ")


import rpy2

from rpy2.robjects.packages import importr
# import R's "base" package
base = importr('base')

# import R's "utils" package
utils = importr('utils')

# select a mirror for R packages
utils.chooseCRANmirror(ind=1) # select the first mirror in the list


utils.install_packages("tidyverse")


rpy2.ipython.rmagic.RMagics.R("""library(tidyverse)""", "")


rpy2.ipython.rmagic.RMagics.R("""data <- data.frame(x = c(1,4), y = c(3,4))

ggplot(data = data, mapping = aes(x=x, y=y)) +
geom_line() +
theme_classic(base_family = "Helvetica")""", "")
